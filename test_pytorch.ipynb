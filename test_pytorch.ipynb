{
 "cells": [
  {
   "cell_type": "markdown",
   "id": "82e103fb",
   "metadata": {},
   "source": [
    "# PyTorch 基础示例\n",
    "\n",
    "这个 notebook 演示了 PyTorch 的基本用法，包括：\n",
    "1. 导入库\n",
    "2. 创建张量\n",
    "3. 基本运算\n",
    "4. 简单的神经网络"
   ]
  },
  {
   "cell_type": "code",
   "execution_count": 6,
   "id": "129c4e0b",
   "metadata": {},
   "outputs": [
    {
     "name": "stdout",
     "output_type": "stream",
     "text": [
      "PyTorch 版本: 2.7.1+cpu\n",
      "CUDA 可用: False\n"
     ]
    }
   ],
   "source": [
    "# 导入必要的库\n",
    "import torch\n",
    "import torch.nn as nn\n",
    "import torch.nn.functional as F\n",
    "import numpy as np\n",
    "\n",
    "# 检查 PyTorch 版本和 CUDA 可用性\n",
    "print(f\"PyTorch 版本: {torch.__version__}\")\n",
    "print(f\"CUDA 可用: {torch.cuda.is_available()}\")\n",
    "if torch.cuda.is_available():\n",
    "    print(f\"CUDA 设备数量: {torch.cuda.device_count()}\")\n",
    "    print(f\"当前 CUDA 设备: {torch.cuda.get_device_name(0)}\")"
   ]
  },
  {
   "cell_type": "code",
   "execution_count": 2,
   "id": "45217c3a",
   "metadata": {},
   "outputs": [
    {
     "name": "stdout",
     "output_type": "stream",
     "text": [
      "=== 创建张量 ===\n",
      "一维张量: tensor([1, 2, 3, 4, 5])\n",
      "零矩阵: \n",
      "tensor([[0., 0., 0.],\n",
      "        [0., 0., 0.]])\n",
      "随机矩阵: \n",
      "tensor([[ 0.6303, -0.5816,  1.4562],\n",
      "        [ 1.6320,  1.7117,  0.0891]])\n",
      "从 NumPy 创建: tensor([1, 2, 3])\n"
     ]
    }
   ],
   "source": [
    "# 1. 创建张量 (Tensors)\n",
    "print(\"=== 创建张量 ===\")\n",
    "\n",
    "# 创建不同类型的张量\n",
    "x = torch.tensor([1, 2, 3, 4, 5])\n",
    "print(f\"一维张量: {x}\")\n",
    "\n",
    "y = torch.zeros(2, 3)\n",
    "print(f\"零矩阵: \\n{y}\")\n",
    "\n",
    "z = torch.randn(2, 3)\n",
    "print(f\"随机矩阵: \\n{z}\")\n",
    "\n",
    "# 从 NumPy 数组创建张量\n",
    "np_array = np.array([1, 2, 3])\n",
    "tensor_from_np = torch.from_numpy(np_array)\n",
    "print(f\"从 NumPy 创建: {tensor_from_np}\")"
   ]
  },
  {
   "cell_type": "code",
   "execution_count": 3,
   "id": "aedc225c",
   "metadata": {},
   "outputs": [
    {
     "name": "stdout",
     "output_type": "stream",
     "text": [
      "=== 张量运算 ===\n",
      "矩阵 a: \n",
      "tensor([[1., 2.],\n",
      "        [3., 4.]])\n",
      "矩阵 b: \n",
      "tensor([[5., 6.],\n",
      "        [7., 8.]])\n",
      "a + b: \n",
      "tensor([[ 6.,  8.],\n",
      "        [10., 12.]])\n",
      "a @ b (矩阵乘法): \n",
      "tensor([[19., 22.],\n",
      "        [43., 50.]])\n",
      "a * b (元素级乘法): \n",
      "tensor([[ 5., 12.],\n",
      "        [21., 32.]])\n",
      "a 的和: 10.0\n",
      "a 的均值: 2.5\n"
     ]
    }
   ],
   "source": [
    "# 2. 张量基本运算\n",
    "print(\"=== 张量运算 ===\")\n",
    "\n",
    "a = torch.tensor([[1, 2], [3, 4]], dtype=torch.float32)\n",
    "b = torch.tensor([[5, 6], [7, 8]], dtype=torch.float32)\n",
    "\n",
    "print(f\"矩阵 a: \\n{a}\")\n",
    "print(f\"矩阵 b: \\n{b}\")\n",
    "\n",
    "# 加法\n",
    "c = a + b\n",
    "print(f\"a + b: \\n{c}\")\n",
    "\n",
    "# 矩阵乘法\n",
    "d = torch.mm(a, b)\n",
    "print(f\"a @ b (矩阵乘法): \\n{d}\")\n",
    "\n",
    "# 元素级乘法\n",
    "e = a * b\n",
    "print(f\"a * b (元素级乘法): \\n{e}\")\n",
    "\n",
    "# 求和、均值等\n",
    "print(f\"a 的和: {a.sum()}\")\n",
    "print(f\"a 的均值: {a.mean()}\")"
   ]
  },
  {
   "cell_type": "code",
   "execution_count": 4,
   "id": "eda5ee10",
   "metadata": {},
   "outputs": [
    {
     "name": "stdout",
     "output_type": "stream",
     "text": [
      "=== 自动梯度计算 ===\n",
      "输入 x: tensor([2., 3.], requires_grad=True)\n",
      "y = x^2 + 2x + 1: tensor([ 9., 16.], grad_fn=<AddBackward0>)\n",
      "z = sum(y): 25.0\n",
      "x 的梯度 (dz/dx): tensor([6., 8.])\n",
      "理论梯度 (2x + 2): tensor([6., 8.])\n"
     ]
    }
   ],
   "source": [
    "# 3. 自动梯度 (Autograd)\n",
    "print(\"=== 自动梯度计算 ===\")\n",
    "\n",
    "# 创建需要梯度的张量\n",
    "x = torch.tensor([2.0, 3.0], requires_grad=True)\n",
    "print(f\"输入 x: {x}\")\n",
    "\n",
    "# 定义一个简单的函数: y = x^2 + 2x + 1\n",
    "y = x**2 + 2*x + 1\n",
    "print(f\"y = x^2 + 2x + 1: {y}\")\n",
    "\n",
    "# 计算 y 的和\n",
    "z = y.sum()\n",
    "print(f\"z = sum(y): {z}\")\n",
    "\n",
    "# 反向传播计算梯度\n",
    "z.backward()\n",
    "print(f\"x 的梯度 (dz/dx): {x.grad}\")\n",
    "\n",
    "# 验证: dy/dx = 2x + 2，在 x=[2,3] 处应该是 [6, 8]\n",
    "print(f\"理论梯度 (2x + 2): {2*x.data + 2}\")"
   ]
  },
  {
   "cell_type": "code",
   "execution_count": 5,
   "id": "4c8ddd9b",
   "metadata": {},
   "outputs": [
    {
     "name": "stdout",
     "output_type": "stream",
     "text": [
      "=== 简单神经网络 ===\n",
      "模型结构: \n",
      "SimpleNet(\n",
      "  (linear1): Linear(in_features=2, out_features=4, bias=True)\n",
      "  (linear2): Linear(in_features=4, out_features=1, bias=True)\n",
      ")\n",
      "输入数据: \n",
      "tensor([[ 0.0923, -1.2550],\n",
      "        [ 0.5273,  0.5189],\n",
      "        [ 0.4878,  1.9061],\n",
      "        [-0.3961,  0.6482],\n",
      "        [-0.6711, -1.7413]])\n",
      "模型输出: \n",
      "tensor([[0.3551],\n",
      "        [0.5018],\n",
      "        [0.5758],\n",
      "        [0.4384],\n",
      "        [0.2894]], grad_fn=<AddmmBackward0>)\n",
      "\n",
      "模型参数:\n",
      "linear1.weight: torch.Size([4, 2])\n",
      "linear1.bias: torch.Size([4])\n",
      "linear2.weight: torch.Size([1, 4])\n",
      "linear2.bias: torch.Size([1])\n"
     ]
    }
   ],
   "source": [
    "# 4. 简单的神经网络\n",
    "print(\"=== 简单神经网络 ===\")\n",
    "\n",
    "# 定义一个简单的线性模型\n",
    "class SimpleNet(nn.Module):\n",
    "    def __init__(self):\n",
    "        super(SimpleNet, self).__init__()\n",
    "        self.linear1 = nn.Linear(2, 4)  # 输入层到隐藏层\n",
    "        self.linear2 = nn.Linear(4, 1)  # 隐藏层到输出层\n",
    "    \n",
    "    def forward(self, x):\n",
    "        x = F.relu(self.linear1(x))  # ReLU 激活函数\n",
    "        x = self.linear2(x)\n",
    "        return x\n",
    "\n",
    "# 创建模型实例\n",
    "model = SimpleNet()\n",
    "print(f\"模型结构: \\n{model}\")\n",
    "\n",
    "# 创建一些示例数据\n",
    "input_data = torch.randn(5, 2)  # 5 个样本，每个样本 2 个特征\n",
    "print(f\"输入数据: \\n{input_data}\")\n",
    "\n",
    "# 前向传播\n",
    "output = model(input_data)\n",
    "print(f\"模型输出: \\n{output}\")\n",
    "\n",
    "# 显示模型参数\n",
    "print(\"\\n模型参数:\")\n",
    "for name, param in model.named_parameters():\n",
    "    print(f\"{name}: {param.shape}\")"
   ]
  }
 ],
 "metadata": {
  "kernelspec": {
   "display_name": "Python 3 (ipykernel)",
   "language": "python",
   "name": "python3"
  },
  "language_info": {
   "codemirror_mode": {
    "name": "ipython",
    "version": 3
   },
   "file_extension": ".py",
   "mimetype": "text/x-python",
   "name": "python",
   "nbconvert_exporter": "python",
   "pygments_lexer": "ipython3",
   "version": "3.11.13"
  }
 },
 "nbformat": 4,
 "nbformat_minor": 5
}
